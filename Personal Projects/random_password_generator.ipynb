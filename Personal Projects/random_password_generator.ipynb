{
 "cells": [
  {
   "cell_type": "code",
   "execution_count": 32,
   "id": "100b4c87-7a77-48fc-a23f-1dd74f582437",
   "metadata": {},
   "outputs": [
    {
     "data": {
      "text/plain": [
       "'sZw0>7Q90xmSX58B=#r?'"
      ]
     },
     "execution_count": 32,
     "metadata": {},
     "output_type": "execute_result"
    }
   ],
   "source": [
    "import random\n",
    "\n",
    "#random password generator\n",
    "#must contain at least 1 Upper Case\n",
    "#must contain at least 1 lower case\n",
    "#must contain at least 1 special character (e.g. \"-\", \"_\", \"!\", etc.)\n",
    "#must contain at least 1 number\n",
    "#must have a length size of at least 8 characters\n",
    "\n",
    "\n",
    "def lst_lower_cases():\n",
    "    lower_cases = []\n",
    "    for number in range(97, 122 + 1): #lowercase a-z in unicode\n",
    "        lower_cases += chr(number)\n",
    "    return lower_cases\n",
    "\n",
    "def lst_upper_cases():\n",
    "    upper_cases = []\n",
    "    for i in range(65,90+1): #uppercase A-Z in unicode\n",
    "        upper_cases+=chr(i)\n",
    "    return upper_cases\n",
    "\n",
    "def special_characters():\n",
    "    special_chr = []\n",
    "    for symbol in range(33,48+1): #special characters such as symbols\n",
    "        special_chr+=chr(symbol)\n",
    "    for symbol in range(58,64+1): #another set of characters/symbols\n",
    "        special_chr+= chr(symbol)\n",
    "    return special_chr\n",
    "\n",
    "def nums():\n",
    "    numbers = []\n",
    "    for num in range(48,57+1):   #numbers 0-9 in unicode, although 0,10 range would have sufficed\n",
    "        numbers += chr(num)\n",
    "    return numbers\n",
    "\n",
    "\n",
    "def gen_password():\n",
    "    lower = lst_lower_cases()\n",
    "    upper = lst_upper_cases()\n",
    "    spec = special_characters()\n",
    "    numbers = nums()\n",
    "    password = \"\"\n",
    "    \n",
    "    random_cnt = random.randint(8,17) #generates a password length of anywhere between 8 characters to 16 characters\n",
    "    \n",
    "    while len(password) <random_cnt:\n",
    "        password += random.choice(lower) + random.choice(upper) + random.choice(spec) + random.choice(numbers)\n",
    "        \n",
    "        if len(password)>=random_cnt:\n",
    "            break\n",
    "            \n",
    "    password_as_lst = list(password)\n",
    "    shuffled = random.shuffle(password_as_lst)\n",
    "    password_shuffled = \"\"\n",
    "    for character in password_as_lst:\n",
    "        password_shuffled += character\n",
    "        \n",
    "    return password_shuffled\n",
    "        \n",
    "        \n",
    "gen_password()"
   ]
  },
  {
   "cell_type": "code",
   "execution_count": null,
   "id": "3b78ddd8-b14f-482f-87cd-de1d2874e4d4",
   "metadata": {},
   "outputs": [],
   "source": []
  }
 ],
 "metadata": {
  "kernelspec": {
   "display_name": "Python 3 (ipykernel)",
   "language": "python",
   "name": "python3"
  },
  "language_info": {
   "codemirror_mode": {
    "name": "ipython",
    "version": 3
   },
   "file_extension": ".py",
   "mimetype": "text/x-python",
   "name": "python",
   "nbconvert_exporter": "python",
   "pygments_lexer": "ipython3",
   "version": "3.9.5"
  }
 },
 "nbformat": 4,
 "nbformat_minor": 5
}
